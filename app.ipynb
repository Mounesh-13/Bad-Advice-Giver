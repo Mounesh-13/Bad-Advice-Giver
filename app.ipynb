{
 "cells": [
  {
   "cell_type": "code",
   "execution_count": 46,
   "id": "8e995722-eaf7-490f-85f8-7b5bd9ac3d0a",
   "metadata": {},
   "outputs": [],
   "source": [
    "# Importing necessary libraries\n",
    "import random\n",
    "import time\n",
    "\n",
    "# List of bad advice\n",
    "bad_advice_list = [\n",
    "    \"Always put your phone in the fridge. It keeps it cool.\",\n",
    "    \"If you're late for a meeting, just tell everyone you time-travelled.\",\n",
    "    \"Never eat vegetables. They're just colorful cardboard.\",\n",
    "    \"If you lose your keys, just buy a new car. Problem solved.\",\n",
    "    \"For better sleep, drink 10 cups of coffee before bed.\",\n",
    "    \"Never exercise. The less you move, the less you sweat.\",\n",
    "    \"If you're hungry, just look at pictures of food. Close enough.\",\n",
    "    \"Don't bother with GPS. Just drive until you find a nice spot.\",\n",
    "    \"You should always reply 'idk' to emails. Makes you seem mysterious.\",\n",
    "    \"Always argue with the GPS. It makes you feel in control.\"\n",
    "]\n",
    "\n",
    "# Function to give bad advice\n",
    "def give_bad_advice():\n",
    "    advice = random.choice(bad_advice_list)\n",
    "    return advice\n",
    "\n",
    "# Main function to display bad advice to user\n",
    "def bad_advice_session():\n",
    "    print(\"Welcome to the Bad Advice Giver!\")\n",
    "    time.sleep(1)\n",
    "    print(\"Here is your piece of bad advice for the day:\")\n",
    "    time.sleep(1)\n",
    "    \n",
    "    advice = give_bad_advice()\n",
    "    print(f\"\\n'{advice}'\\n\")\n",
    "    print(\"Remember, don't actually follow this advice... unless you want to.\")\n",
    "    print(\"\\nHave a fun day!\")\n"
   ]
  },
  {
   "cell_type": "code",
   "execution_count": 47,
   "id": "d9e70caf-5cfc-4244-a120-08d2c597b826",
   "metadata": {},
   "outputs": [],
   "source": [
    "# Importing necessary libraries\n",
    "import random\n",
    "import time\n"
   ]
  },
  {
   "cell_type": "code",
   "execution_count": 48,
   "id": "c0130a91-ebf8-451b-909f-2a5a9f808c1c",
   "metadata": {},
   "outputs": [],
   "source": [
    "# List of bad advice\n",
    "bad_advice_list = [\n",
    "    \"Always put your phone in the fridge. It keeps it cool.\",\n",
    "    \"If you're late for a meeting, just tell everyone you time-travelled.\",\n",
    "    \"Never eat vegetables. They're just colorful cardboard.\",\n",
    "    \"If you lose your keys, just buy a new car. Problem solved.\",\n",
    "    \"For better sleep, drink 10 cups of coffee before bed.\",\n",
    "    \"Never exercise. The less you move, the less you sweat.\",\n",
    "    \"If you're hungry, just look at pictures of food. Close enough.\",\n",
    "    \"Don't bother with GPS. Just drive until you find a nice spot.\",\n",
    "    \"You should always reply 'idk' to emails. Makes you seem mysterious.\",\n",
    "    \"Always argue with the GPS. It makes you feel in control.\"\n",
    "]"
   ]
  },
  {
   "cell_type": "code",
   "execution_count": 49,
   "id": "6ce280b2-5f2a-467a-9602-313c849c7e2d",
   "metadata": {},
   "outputs": [],
   "source": [
    "# Function to give bad advice\n",
    "def give_bad_advice():\n",
    "    advice = random.choice(bad_advice_list)\n",
    "    return advice\n"
   ]
  },
  {
   "cell_type": "code",
   "execution_count": 55,
   "id": "32bd4885-401f-4dcc-97cd-7e4605244703",
   "metadata": {},
   "outputs": [],
   "source": [
    "def bad_advice_session():\n",
    "    print(\"Welcome to the Bad Advice Giver!\")\n",
    "    time.sleep(1)\n",
    "    print(\"Here is your piece of bad advice for the day:\")\n",
    "    time.sleep(1)\n",
    "    \n",
    "    advice = give_bad_advice()\n",
    "    print(f\"\\n'{advice}'\\n\")\n",
    "    print(\"Remember, don't actually follow this advice... unless you want to.\")\n",
    "    print(\"\\nHave a fun day!\")"
   ]
  },
  {
   "cell_type": "code",
   "execution_count": 56,
   "id": "715b4684-9d96-4e5f-8e36-0285cce8ad31",
   "metadata": {},
   "outputs": [
    {
     "name": "stdout",
     "output_type": "stream",
     "text": [
      "Welcome to the Bad Advice Giver!\n",
      "Here is your piece of bad advice for the day:\n",
      "\n",
      "'If you're late for a meeting, just tell everyone you time-travelled.'\n",
      "\n",
      "Remember, don't actually follow this advice... unless you want to.\n",
      "\n",
      "Have a fun day!\n"
     ]
    }
   ],
   "source": [
    "# Run the session\n",
    "bad_advice_session()\n"
   ]
  },
  {
   "cell_type": "code",
   "execution_count": null,
   "id": "b101cd76-08e9-4f8f-abaf-43cf39d7ba70",
   "metadata": {},
   "outputs": [],
   "source": []
  }
 ],
 "metadata": {
  "kernelspec": {
   "display_name": "Python 3 (ipykernel)",
   "language": "python",
   "name": "python3"
  },
  "language_info": {
   "codemirror_mode": {
    "name": "ipython",
    "version": 3
   },
   "file_extension": ".py",
   "mimetype": "text/x-python",
   "name": "python",
   "nbconvert_exporter": "python",
   "pygments_lexer": "ipython3",
   "version": "3.12.7"
  }
 },
 "nbformat": 4,
 "nbformat_minor": 5
}
